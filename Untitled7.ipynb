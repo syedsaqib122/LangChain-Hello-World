{
  "nbformat": 4,
  "nbformat_minor": 0,
  "metadata": {
    "colab": {
      "provenance": [],
      "authorship_tag": "ABX9TyP2CffJATNXym5Gm0HoH2DN",
      "include_colab_link": true
    },
    "kernelspec": {
      "name": "python3",
      "display_name": "Python 3"
    },
    "language_info": {
      "name": "python"
    }
  },
  "cells": [
    {
      "cell_type": "markdown",
      "metadata": {
        "id": "view-in-github",
        "colab_type": "text"
      },
      "source": [
        "<a href=\"https://colab.research.google.com/github/syedsaqib122/LangChain-Hello-World/blob/main/Untitled7.ipynb\" target=\"_parent\"><img src=\"https://colab.research.google.com/assets/colab-badge.svg\" alt=\"Open In Colab\"/></a>"
      ]
    },
    {
      "cell_type": "markdown",
      "source": [
        "# **Project : LangChain Hello World**\n",
        "**Step 1: Install the tools**\n",
        "\n",
        "First, we need to install two tools:\n",
        "\n",
        "*   LangChain\n",
        "\n",
        "*   Google Generative AI\n",
        "\n",
        "\n",
        "\n",
        "\n"
      ],
      "metadata": {
        "id": "xtyFMLiu0rFp"
      }
    },
    {
      "cell_type": "code",
      "source": [
        "!pip install -Uq langchain langchain-google-genai\n"
      ],
      "metadata": {
        "id": "pxMiOzrU2URu"
      },
      "execution_count": 9,
      "outputs": []
    },
    {
      "cell_type": "markdown",
      "source": [
        "**Step 2:** **Import the tools**\n",
        "\n",
        "Now we bring the tools into our project so we can use them.\n",
        "\n"
      ],
      "metadata": {
        "id": "dTTzbpyl2ZZT"
      }
    },
    {
      "cell_type": "code",
      "source": [
        "import langchain_google_genai as genai\n",
        "from langchain_google_genai import ChatGoogleGenerativeAI\n",
        "from google.colab import userdata\n"
      ],
      "metadata": {
        "id": "JJz8I0V020NM"
      },
      "execution_count": 10,
      "outputs": []
    },
    {
      "cell_type": "markdown",
      "source": [
        "**Step 3:** **Add your API key**\n",
        "\n",
        "An API key is like a password. It lets you connect to Google AI."
      ],
      "metadata": {
        "id": "e_B3VOIi252G"
      }
    },
    {
      "cell_type": "code",
      "source": [
        "GOOGLE_API_KEY = userdata.get('GOOGLE_API_KEY')\n"
      ],
      "metadata": {
        "id": "RI10NYo729TK"
      },
      "execution_count": 11,
      "outputs": []
    },
    {
      "cell_type": "markdown",
      "source": [
        "**Step 4:** **Set up the AI**\n",
        "\n",
        "Here we create a new AI helper using Google AI. We tell it which AI model to use (e.g., \"gemini-2.0-flash-exp\") and give it the API key."
      ],
      "metadata": {
        "id": "rLVrfy_w3EmX"
      }
    },
    {
      "cell_type": "code",
      "source": [
        "llm = ChatGoogleGenerativeAI(\n",
        "    model=\"gemini-2.0-flash-exp\",\n",
        "    api_key=GOOGLE_API_KEY\n",
        ")\n"
      ],
      "metadata": {
        "id": "5shEfD_046VR"
      },
      "execution_count": 12,
      "outputs": []
    },
    {
      "cell_type": "markdown",
      "source": [
        "**Step 5: Ask the AI a question**\n",
        "\n",
        "Now we can ask the AI a question. For example: \"Who is the founder of Pakistan?\""
      ],
      "metadata": {
        "id": "gV1jdrt249tZ"
      }
    },
    {
      "cell_type": "code",
      "source": [
        "response = llm.invoke(\"Who write the national anthem of Pakistan\")\n"
      ],
      "metadata": {
        "id": "LZYKfNv45Hm5"
      },
      "execution_count": 19,
      "outputs": []
    },
    {
      "cell_type": "markdown",
      "source": [
        "**Step 6: Show the answer**\n",
        "\n",
        "Finally, we show the answer from the AI."
      ],
      "metadata": {
        "id": "Ab-rAhO95McD"
      }
    },
    {
      "cell_type": "code",
      "source": [
        "print(response.content)\n"
      ],
      "metadata": {
        "colab": {
          "base_uri": "https://localhost:8080/"
        },
        "id": "VSoQoz_b5R85",
        "outputId": "dc38e659-e17f-48f2-ced1-cbd9435bd4dc"
      },
      "execution_count": 20,
      "outputs": [
        {
          "output_type": "stream",
          "name": "stdout",
          "text": [
            "The national anthem of Pakistan, called \"Qaumī Tarāna,\" was written by **Hafeez Jalandhari**.\n",
            "\n"
          ]
        }
      ]
    },
    {
      "cell_type": "markdown",
      "source": [
        "\n",
        "**PROJECT COMPLETED**\n",
        "\n",
        "---\n",
        "\n",
        "\n",
        "---\n",
        "\n"
      ],
      "metadata": {
        "id": "3dQyxrqd5XMo"
      }
    }
  ]
}